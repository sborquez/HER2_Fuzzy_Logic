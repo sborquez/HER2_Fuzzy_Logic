{
 "cells": [
  {
   "cell_type": "markdown",
   "metadata": {},
   "source": [
    "<h2 align=\"center\">INF575 - Fuzzy Logic</h2>\n",
    "<h1 align=\"center\">Segmentation of HER2 Overexpression in Histopathology Images with Fuzzy Decision Tree<h1>\n",
    "    \n",
    "<center>\n",
    "    <img src=\"https://rochepacientes.es/content/dam/roche-pacientes-2/es/assets/images/que-es-her2.jpg\" width=\"60%\"/>\n",
    "</center>\n",
    "\n",
    "<h2 align=\"center\">Fuzzy Decision Tree</h2>\n",
    "\n",
    "<center>\n",
    "<i> Sebastián Bórquez G. - <a href=\"mailto://sebastian.borquez.g@gmail.com\">sebastian.borquez.g@gmail.com</a> - DI UTFSM - August 2020.</i>\n",
    "</center>"
   ]
  },
  {
   "cell_type": "code",
   "execution_count": 2,
   "metadata": {},
   "outputs": [
    {
     "name": "stdout",
     "output_type": "stream",
     "text": [
      "/mnt/d/sebas/Desktop/her2_FL\n"
     ]
    }
   ],
   "source": [
    "%cd .."
   ]
  },
  {
   "cell_type": "markdown",
   "metadata": {},
   "source": [
    "## Toy Example"
   ]
  },
  {
   "cell_type": "code",
   "execution_count": 3,
   "metadata": {},
   "outputs": [
    {
     "data": {
      "text/plain": [
       "['sepal length (cm)',\n",
       " 'sepal width (cm)',\n",
       " 'petal length (cm)',\n",
       " 'petal width (cm)']"
      ]
     },
     "execution_count": 3,
     "metadata": {},
     "output_type": "execute_result"
    }
   ],
   "source": [
    "from sklearn.datasets import load_iris\n",
    "from sklearn.metrics import classification_report\n",
    "from sklearn.model_selection import train_test_split\n",
    "from sklearn import tree\n",
    "import pandas as pd\n",
    "from fuzzy import *\n",
    "from fuzzy_tree import *\n",
    "\n",
    "feature_names = load_iris()[\"feature_names\"]\n",
    "target_names = load_iris()[\"target_names\"]\n",
    "X, y = load_iris(return_X_y=True)\n",
    "X, X_test, y, y_test = train_test_split(X,y,test_size=0.1, random_state=42)\n",
    "feature_names"
   ]
  },
  {
   "cell_type": "code",
   "execution_count": 4,
   "metadata": {},
   "outputs": [
    {
     "data": {
      "text/html": [
       "<div>\n",
       "<style scoped>\n",
       "    .dataframe tbody tr th:only-of-type {\n",
       "        vertical-align: middle;\n",
       "    }\n",
       "\n",
       "    .dataframe tbody tr th {\n",
       "        vertical-align: top;\n",
       "    }\n",
       "\n",
       "    .dataframe thead th {\n",
       "        text-align: right;\n",
       "    }\n",
       "</style>\n",
       "<table border=\"1\" class=\"dataframe\">\n",
       "  <thead>\n",
       "    <tr style=\"text-align: right;\">\n",
       "      <th></th>\n",
       "      <th>0</th>\n",
       "      <th>1</th>\n",
       "      <th>2</th>\n",
       "      <th>3</th>\n",
       "    </tr>\n",
       "  </thead>\n",
       "  <tbody>\n",
       "    <tr>\n",
       "      <th>count</th>\n",
       "      <td>135.000000</td>\n",
       "      <td>135.000000</td>\n",
       "      <td>135.000000</td>\n",
       "      <td>135.000000</td>\n",
       "    </tr>\n",
       "    <tr>\n",
       "      <th>mean</th>\n",
       "      <td>5.833333</td>\n",
       "      <td>3.057778</td>\n",
       "      <td>3.790370</td>\n",
       "      <td>1.213333</td>\n",
       "    </tr>\n",
       "    <tr>\n",
       "      <th>std</th>\n",
       "      <td>0.833532</td>\n",
       "      <td>0.437166</td>\n",
       "      <td>1.762921</td>\n",
       "      <td>0.760871</td>\n",
       "    </tr>\n",
       "    <tr>\n",
       "      <th>min</th>\n",
       "      <td>4.300000</td>\n",
       "      <td>2.000000</td>\n",
       "      <td>1.000000</td>\n",
       "      <td>0.100000</td>\n",
       "    </tr>\n",
       "    <tr>\n",
       "      <th>25%</th>\n",
       "      <td>5.100000</td>\n",
       "      <td>2.800000</td>\n",
       "      <td>1.600000</td>\n",
       "      <td>0.300000</td>\n",
       "    </tr>\n",
       "    <tr>\n",
       "      <th>50%</th>\n",
       "      <td>5.800000</td>\n",
       "      <td>3.000000</td>\n",
       "      <td>4.400000</td>\n",
       "      <td>1.300000</td>\n",
       "    </tr>\n",
       "    <tr>\n",
       "      <th>75%</th>\n",
       "      <td>6.400000</td>\n",
       "      <td>3.300000</td>\n",
       "      <td>5.100000</td>\n",
       "      <td>1.800000</td>\n",
       "    </tr>\n",
       "    <tr>\n",
       "      <th>max</th>\n",
       "      <td>7.900000</td>\n",
       "      <td>4.400000</td>\n",
       "      <td>6.700000</td>\n",
       "      <td>2.500000</td>\n",
       "    </tr>\n",
       "  </tbody>\n",
       "</table>\n",
       "</div>"
      ],
      "text/plain": [
       "                0           1           2           3\n",
       "count  135.000000  135.000000  135.000000  135.000000\n",
       "mean     5.833333    3.057778    3.790370    1.213333\n",
       "std      0.833532    0.437166    1.762921    0.760871\n",
       "min      4.300000    2.000000    1.000000    0.100000\n",
       "25%      5.100000    2.800000    1.600000    0.300000\n",
       "50%      5.800000    3.000000    4.400000    1.300000\n",
       "75%      6.400000    3.300000    5.100000    1.800000\n",
       "max      7.900000    4.400000    6.700000    2.500000"
      ]
     },
     "execution_count": 4,
     "metadata": {},
     "output_type": "execute_result"
    }
   ],
   "source": [
    "pd.DataFrame(X).describe()"
   ]
  },
  {
   "cell_type": "code",
   "execution_count": 5,
   "metadata": {},
   "outputs": [],
   "source": [
    "features_fuzzy_sets = {\n",
    "    'sepal length (cm)': {\n",
    "        \"high\":   sigma(6.4, 6.4 - 5.1),\n",
    "        \"medium\": triangular(5.8, 5.8 - 5.1, 6.4 - 5.8),\n",
    "        \"low\":    sigma_inv(5.1, 6.4 - 5.1)\n",
    "    },\n",
    "    'sepal width (cm)': {\n",
    "        \"high\":  sigma(3.3, 3.3-2.8),\n",
    "        \"low\":   sigma_inv(2.8, 3.3-2.8)\n",
    "    },\n",
    "    'petal length (cm)': {\n",
    "        \"high\":   sigma(5.1, 5.1 - 1.6),\n",
    "        \"medium\": triangular(4.35, 4.35 - 1.6, 5.1 - 4.35),\n",
    "        \"low\":    sigma_inv(1.6, 5.1 - 1.6)\n",
    "    },\n",
    "     'petal width (cm)': {\n",
    "        \"high\":  sigma(1.8, 1.8-0.3),\n",
    "        \"low\":   sigma_inv(0.3, 1.8-0.3)\n",
    "    }\n",
    "}"
   ]
  },
  {
   "cell_type": "code",
   "execution_count": 6,
   "metadata": {
    "scrolled": false
   },
   "outputs": [
    {
     "data": {
      "image/png": "[encoded data removed]",
      "text/plain": [
       "<Figure size 432x288 with 1 Axes>"
      ]
     },
     "metadata": {
      "needs_background": "light"
     },
     "output_type": "display_data"
    },
    {
     "data": {
      "image/png": "[encoded data removed]",
      "text/plain": [
       "<Figure size 432x288 with 1 Axes>"
      ]
     },
     "metadata": {
      "needs_background": "light"
     },
     "output_type": "display_data"
    },
    {
     "data": {
      "image/png": "[encoded data removed]",
      "text/plain": [
       "<Figure size 432x288 with 1 Axes>"
      ]
     },
     "metadata": {
      "needs_background": "light"
     },
     "output_type": "display_data"
    },
    {
     "data": {
      "image/png": "[encoded data removed]",
      "text/plain": [
       "<Figure size 432x288 with 1 Axes>"
      ]
     },
     "metadata": {
      "needs_background": "light"
     },
     "output_type": "display_data"
    }
   ],
   "source": [
    "show_membership(features_fuzzy_sets)"
   ]
  },
  {
   "cell_type": "code",
   "execution_count": 7,
   "metadata": {},
   "outputs": [
    {
     "name": "stdout",
     "output_type": "stream",
     "text": [
      "  petal length (cm):\n",
      "\t [high]-> petal width (cm):\n",
      "\t\t [high]-> sepal length (cm):\n",
      "\t\t\t [high]-> sepal width (cm):\n",
      "\t\t\t\t [high]-> {'setosa': 0.0, 'versicolor': 0.24, 'virginica': 0.76}\n",
      "\t\t\t\t [low]-> {'setosa': 0.0, 'versicolor': 0.3, 'virginica': 0.7}\n",
      "\t\t\t [medium]-> sepal width (cm):\n",
      "\t\t\t\t [high]-> {'setosa': 0.0, 'versicolor': 0.61, 'virginica': 0.39}\n",
      "\t\t\t\t [low]-> {'setosa': 0.0, 'versicolor': 0.49, 'virginica': 0.51}\n",
      "\t\t\t [low]-> sepal width (cm):\n",
      "\t\t\t\t [high]-> {'setosa': 0.01, 'versicolor': 0.67, 'virginica': 0.33}\n",
      "\t\t\t\t [low]-> {'setosa': 0.0, 'versicolor': 0.58, 'virginica': 0.42}\n",
      "\t\t [low]-> {'setosa': 0.02, 'versicolor': 0.9, 'virginica': 0.08}\n",
      "\t [medium]-> {'setosa': 0.01, 'versicolor': 0.91, 'virginica': 0.08}\n",
      "\t [low]-> petal width (cm):\n",
      "\t\t [high]-> {'setosa': 0.09, 'versicolor': 0.84, 'virginica': 0.07}\n",
      "\t\t [low]-> {'setosa': 0.91, 'versicolor': 0.09, 'virginica': 0.0}\n"
     ]
    }
   ],
   "source": [
    "tree = build_fuzzy_tree(X, y, feature_names, target_names, features_fuzzy_sets)\n",
    "show_tree(tree, target_names)"
   ]
  },
  {
   "cell_type": "code",
   "execution_count": 8,
   "metadata": {},
   "outputs": [
    {
     "data": {
      "text/plain": [
       "array([1, 0, 2, 1, 1, 0, 1, 2, 1, 1, 2, 0, 0, 0, 0])"
      ]
     },
     "execution_count": 8,
     "metadata": {},
     "output_type": "execute_result"
    }
   ],
   "source": [
    "y_test"
   ]
  },
  {
   "cell_type": "code",
   "execution_count": 10,
   "metadata": {},
   "outputs": [
    {
     "name": "stdout",
     "output_type": "stream",
     "text": [
      "[1 0 2 1 1 0 1 2 1 1 2 0 0 0 0]\n",
      "[[0.03 0.66 0.3 ]\n",
      " [0.86 0.14 0.01]\n",
      " [0.   0.3  0.7 ]\n",
      " [0.02 0.66 0.32]\n",
      " [0.03 0.6  0.37]\n",
      " [0.86 0.14 0.01]\n",
      " [0.08 0.7  0.21]\n",
      " [0.   0.27 0.73]\n",
      " [0.03 0.66 0.31]\n",
      " [0.07 0.69 0.24]\n",
      " [0.   0.26 0.74]\n",
      " [0.91 0.09 0.  ]\n",
      " [0.91 0.09 0.  ]\n",
      " [0.91 0.09 0.  ]\n",
      " [0.91 0.09 0.  ]]\n"
     ]
    }
   ],
   "source": [
    "y_pred = predict(tree, X_test, features_fuzzy_sets, feature_names, target_names)\n",
    "print(y_pred)\n",
    "y_pred_prob = predict_proba(tree, X_test, features_fuzzy_sets, feature_names, target_names)\n",
    "print(np.round(y_pred_prob,2))"
   ]
  },
  {
   "cell_type": "code",
   "execution_count": 11,
   "metadata": {},
   "outputs": [
    {
     "name": "stdout",
     "output_type": "stream",
     "text": [
      "              precision    recall  f1-score   support\n",
      "\n",
      "      setosa       1.00      1.00      1.00         6\n",
      "  versicolor       1.00      1.00      1.00         6\n",
      "   virginica       1.00      1.00      1.00         3\n",
      "\n",
      "    accuracy                           1.00        15\n",
      "   macro avg       1.00      1.00      1.00        15\n",
      "weighted avg       1.00      1.00      1.00        15\n",
      "\n"
     ]
    }
   ],
   "source": [
    "print(classification_report(y_test, y_pred, target_names=target_names))"
   ]
  },
  {
   "cell_type": "code",
   "execution_count": 14,
   "metadata": {
    "scrolled": true
   },
   "outputs": [
    {
     "name": "stdout",
     "output_type": "stream",
     "text": [
      "IF ((\"petal length (cm)\" IS \"high\") AND (\"petal width (cm)\" IS \"high\") AND (\"sepal length (cm)\" IS \"high\") AND (\"sepal width (cm)\" IS \"high\")), THEN IS \"virginica\"\n",
      "IF ((\"petal length (cm)\" IS \"high\") AND (\"petal width (cm)\" IS \"high\") AND (\"sepal length (cm)\" IS \"high\") AND (\"sepal width (cm)\" IS \"low\")), THEN IS \"virginica\"\n",
      "IF ((\"petal length (cm)\" IS \"high\") AND (\"petal width (cm)\" IS \"high\") AND (\"sepal length (cm)\" IS \"medium\") AND (\"sepal width (cm)\" IS \"high\")), THEN IS \"versicolor\"\n",
      "IF ((\"petal length (cm)\" IS \"high\") AND (\"petal width (cm)\" IS \"high\") AND (\"sepal length (cm)\" IS \"medium\") AND (\"sepal width (cm)\" IS \"low\")), THEN IS \"virginica\"\n",
      "IF ((\"petal length (cm)\" IS \"high\") AND (\"petal width (cm)\" IS \"high\") AND (\"sepal length (cm)\" IS \"low\") AND (\"sepal width (cm)\" IS \"high\")), THEN IS \"versicolor\"\n",
      "IF ((\"petal length (cm)\" IS \"high\") AND (\"petal width (cm)\" IS \"high\") AND (\"sepal length (cm)\" IS \"low\") AND (\"sepal width (cm)\" IS \"low\")), THEN IS \"versicolor\"\n",
      "IF ((\"petal length (cm)\" IS \"high\") AND (\"petal width (cm)\" IS \"low\")), THEN IS \"versicolor\"\n",
      "IF ((\"petal length (cm)\" IS \"medium\")), THEN IS \"versicolor\"\n",
      "IF ((\"petal length (cm)\" IS \"low\") AND (\"petal width (cm)\" IS \"high\")), THEN IS \"versicolor\"\n",
      "IF ((\"petal length (cm)\" IS \"low\") AND (\"petal width (cm)\" IS \"low\")), THEN IS \"setosa\"\n"
     ]
    }
   ],
   "source": [
    "rules = tree_to_rules(tree, target_names)\n",
    "print(*rules, sep=\"\\n\")"
   ]
  }
 ],
 "metadata": {
  "kernelspec": {
   "display_name": "Python 3",
   "language": "python",
   "name": "python3"
  },
  "language_info": {
   "codemirror_mode": {
    "name": "ipython",
    "version": 3
   },
   "file_extension": ".py",
   "mimetype": "text/x-python",
   "name": "python",
   "nbconvert_exporter": "python",
   "pygments_lexer": "ipython3",
   "version": "3.7.7"
  }
 },
 "nbformat": 4,
 "nbformat_minor": 4
}
